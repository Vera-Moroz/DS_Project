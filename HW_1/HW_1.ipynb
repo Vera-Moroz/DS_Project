{
 "cells": [
  {
   "cell_type": "code",
   "execution_count": null,
   "id": "b7a35e6e-03b3-44cb-bcfa-33da25ef99b0",
   "metadata": {},
   "outputs": [],
   "source": [
    "\"\"\"\n",
    "Домашняя работа №1\n",
    "Необходимо написать код на Python и оценить сложность вашего алгоритма О(N).\n",
    "\n",
    "Вариант 14. Создать множество, содержащее названия 5 разных городов, затем удалить одно название и вывести оставшиеся.\n",
    "\"\"\""
   ]
  },
  {
   "cell_type": "code",
   "execution_count": 1,
   "id": "93f88761-42a6-4a56-a8c9-056585ec5660",
   "metadata": {},
   "outputs": [
    {
     "data": {
      "text/plain": [
       "['Брест', 'Витебск', 'Гомель', 'Гродно']"
      ]
     },
     "execution_count": 1,
     "metadata": {},
     "output_type": "execute_result"
    }
   ],
   "source": [
    "# решение через статический массив\n",
    "static_array = [\"Брест\",\"Витебск\",\"Гомель\",\"Гродно\",\"Минск\"]\n",
    "\n",
    "# удаляю город \"Минск\" \n",
    "static_array.remove(\"Минск\")\n",
    "static_array"
   ]
  },
  {
   "cell_type": "code",
   "execution_count": 2,
   "id": "d2ba886e-082f-409b-88c7-5fc00944a6a8",
   "metadata": {},
   "outputs": [
    {
     "name": "stdin",
     "output_type": "stream",
     "text": [
      "Введите город 1:  Минск\n",
      "Введите город 2:  Брест\n",
      "Введите город 3:  Берлин\n",
      "Введите город 4:  Сингапур\n",
      "Введите город 5:  Мадрид\n"
     ]
    },
    {
     "data": {
      "text/plain": [
       "['Брест', 'Берлин', 'Сингапур', 'Мадрид']"
      ]
     },
     "execution_count": 2,
     "metadata": {},
     "output_type": "execute_result"
    }
   ],
   "source": [
    "# решение через динамический массив\n",
    "dynamic_array = []\n",
    "\n",
    "# прошу пользователя заполнить массив \n",
    "for i in range(5):\n",
    "    city = input(f\"Введите город {i+1}: \")\n",
    "    dynamic_array.append(city)\n",
    "\n",
    "# удаляю первый город\n",
    "dynamic_array.pop(0)\n",
    "dynamic_array"
   ]
  },
  {
   "cell_type": "code",
   "execution_count": 2,
   "id": "8ac98e38-45dc-41d9-bdd3-199be1a1ef3d",
   "metadata": {},
   "outputs": [
    {
     "name": "stdout",
     "output_type": "stream",
     "text": [
      "\n",
      "    Сложность создания динамического массива O(n), статического - O(1).\n",
      "    Сложность удаления города и вывода на экран оставшихся элементов O(1).\n",
      "    \n"
     ]
    }
   ],
   "source": [
    "# вывожу оценку сложности\n",
    "print(\"\"\"\n",
    "    Сложность создания динамического массива O(n), статического - O(1).\n",
    "    Сложность удаления города и вывода на экран оставшихся элементов O(1).\n",
    "    \"\"\")"
   ]
  },
  {
   "cell_type": "code",
   "execution_count": null,
   "id": "db55d057-57b2-4848-b8f0-064af8c6da24",
   "metadata": {},
   "outputs": [],
   "source": []
  }
 ],
 "metadata": {
  "kernelspec": {
   "display_name": "Python 3 (ipykernel)",
   "language": "python",
   "name": "python3"
  },
  "language_info": {
   "codemirror_mode": {
    "name": "ipython",
    "version": 3
   },
   "file_extension": ".py",
   "mimetype": "text/x-python",
   "name": "python",
   "nbconvert_exporter": "python",
   "pygments_lexer": "ipython3",
   "version": "3.10.16"
  }
 },
 "nbformat": 4,
 "nbformat_minor": 5
}
