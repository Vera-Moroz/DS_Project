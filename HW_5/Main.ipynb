{
 "cells": [
  {
   "cell_type": "code",
   "execution_count": 1,
   "id": "9b758b44-3595-44aa-a253-9da6ec5358d7",
   "metadata": {},
   "outputs": [
    {
     "name": "stdout",
     "output_type": "stream",
     "text": [
      "Начинаем загрузку данных...\n",
      "Данные загружены из репозитория и сохранены в файл.\n",
      "Данные загружены успешно за 88.46 секунд.\n",
      "Данные загружены корректно:\n",
      "                           Description  Quantity     InvoiceDate  UnitPrice  \\\n",
      "0   WHITE HANGING HEART T-LIGHT HOLDER         6  12/1/2010 8:26       2.55   \n",
      "1                  WHITE METAL LANTERN         6  12/1/2010 8:26       3.39   \n",
      "2       CREAM CUPID HEARTS COAT HANGER         8  12/1/2010 8:26       2.75   \n",
      "3  KNITTED UNION FLAG HOT WATER BOTTLE         6  12/1/2010 8:26       3.39   \n",
      "4       RED WOOLLY HOTTIE WHITE HEART.         6  12/1/2010 8:26       3.39   \n",
      "\n",
      "   CustomerID         Country  \n",
      "0     17850.0  United Kingdom  \n",
      "1     17850.0  United Kingdom  \n",
      "2     17850.0  United Kingdom  \n",
      "3     17850.0  United Kingdom  \n",
      "4     17850.0  United Kingdom  \n"
     ]
    }
   ],
   "source": [
    "# main.ipynb\n",
    "\n",
    "# Импортируем функцию для загрузки данных\n",
    "from Modules.data_loader import load_data\n",
    "\n",
    "# Выводим сообщение перед загрузкой данных\n",
    "print(\"Начинаем загрузку данных...\")\n",
    "\n",
    "# Загрузим данные и проверим время выполнения\n",
    "import time\n",
    "start_time = time.time()\n",
    "\n",
    "X = load_data()\n",
    "\n",
    "end_time = time.time()\n",
    "print(f\"Данные загружены успешно за {end_time - start_time:.2f} секунд.\")\n",
    "\n",
    "# Проверим, что данные загружены корректно\n",
    "if X is not None:\n",
    "    print(\"Данные загружены корректно:\")\n",
    "    print(X.head())\n",
    "else:\n",
    "    print(\"Ошибка: данные не загружены.\")\n"
   ]
  },
  {
   "cell_type": "code",
   "execution_count": 2,
   "id": "1c565309-9c51-4835-82ea-6fcdbedea730",
   "metadata": {},
   "outputs": [
    {
     "name": "stdout",
     "output_type": "stream",
     "text": [
      "<class 'pandas.core.frame.DataFrame'>\n",
      "RangeIndex: 541909 entries, 0 to 541908\n",
      "Data columns (total 6 columns):\n",
      " #   Column       Non-Null Count   Dtype  \n",
      "---  ------       --------------   -----  \n",
      " 0   Description  540455 non-null  object \n",
      " 1   Quantity     541909 non-null  int64  \n",
      " 2   InvoiceDate  541909 non-null  object \n",
      " 3   UnitPrice    541909 non-null  float64\n",
      " 4   CustomerID   406829 non-null  float64\n",
      " 5   Country      541909 non-null  object \n",
      "dtypes: float64(2), int64(1), object(3)\n",
      "memory usage: 24.8+ MB\n",
      "None\n"
     ]
    }
   ],
   "source": [
    "# Проверка информации о данных\n",
    "print(X.info())\n"
   ]
  },
  {
   "cell_type": "code",
   "execution_count": 3,
   "id": "a3df4c59-ae9a-434c-a6c7-5ccb7ea1e38e",
   "metadata": {},
   "outputs": [
    {
     "name": "stdout",
     "output_type": "stream",
     "text": [
      "                           Description  Quantity     InvoiceDate  UnitPrice  \\\n",
      "0   WHITE HANGING HEART T-LIGHT HOLDER         6  12/1/2010 8:26       2.55   \n",
      "1                  WHITE METAL LANTERN         6  12/1/2010 8:26       3.39   \n",
      "2       CREAM CUPID HEARTS COAT HANGER         8  12/1/2010 8:26       2.75   \n",
      "3  KNITTED UNION FLAG HOT WATER BOTTLE         6  12/1/2010 8:26       3.39   \n",
      "4       RED WOOLLY HOTTIE WHITE HEART.         6  12/1/2010 8:26       3.39   \n",
      "\n",
      "   CustomerID         Country  \n",
      "0     17850.0  United Kingdom  \n",
      "1     17850.0  United Kingdom  \n",
      "2     17850.0  United Kingdom  \n",
      "3     17850.0  United Kingdom  \n",
      "4     17850.0  United Kingdom  \n"
     ]
    }
   ],
   "source": [
    "# Вывод первых строк данных\n",
    "print(X.head())\n"
   ]
  },
  {
   "cell_type": "code",
   "execution_count": 4,
   "id": "d0a833ef-f4cc-4e0c-9898-c4b9475c41c6",
   "metadata": {},
   "outputs": [
    {
     "name": "stdout",
     "output_type": "stream",
     "text": [
      "            Quantity      UnitPrice     CustomerID\n",
      "count  541909.000000  541909.000000  406829.000000\n",
      "mean        9.552250       4.611114   15287.690570\n",
      "std       218.081158      96.759853    1713.600303\n",
      "min    -80995.000000  -11062.060000   12346.000000\n",
      "25%         1.000000       1.250000   13953.000000\n",
      "50%         3.000000       2.080000   15152.000000\n",
      "75%        10.000000       4.130000   16791.000000\n",
      "max     80995.000000   38970.000000   18287.000000\n"
     ]
    }
   ],
   "source": [
    "# Описание данных для числовых признаков\n",
    "print(X.describe())\n"
   ]
  },
  {
   "cell_type": "code",
   "execution_count": 5,
   "id": "61b709ea-9049-498d-8e85-04b59aa51e09",
   "metadata": {},
   "outputs": [
    {
     "name": "stdout",
     "output_type": "stream",
     "text": [
      "Description      1454\n",
      "Quantity            0\n",
      "InvoiceDate         0\n",
      "UnitPrice           0\n",
      "CustomerID     135080\n",
      "Country             0\n",
      "dtype: int64\n"
     ]
    }
   ],
   "source": [
    "# Проверка наличия пропущенных значений\n",
    "print(X.isnull().sum())\n"
   ]
  },
  {
   "cell_type": "code",
   "execution_count": 6,
   "id": "59c31843-6eaf-4b90-a2c1-4cfc6787deb9",
   "metadata": {},
   "outputs": [
    {
     "name": "stdout",
     "output_type": "stream",
     "text": [
      "                          Description  Quantity      InvoiceDate  UnitPrice  \\\n",
      "622                               NaN        56  12/1/2010 11:52       0.00   \n",
      "1443  DECORATIVE ROSE BATHROOM BOTTLE         1  12/1/2010 14:32       2.51   \n",
      "1444  DECORATIVE CATS BATHROOM BOTTLE         2  12/1/2010 14:32       2.51   \n",
      "1445               POLKADOT RAIN HAT          4  12/1/2010 14:32       0.85   \n",
      "1446            RAIN PONCHO RETROSPOT         2  12/1/2010 14:32       1.66   \n",
      "\n",
      "      CustomerID         Country  \n",
      "622          NaN  United Kingdom  \n",
      "1443         NaN  United Kingdom  \n",
      "1444         NaN  United Kingdom  \n",
      "1445         NaN  United Kingdom  \n",
      "1446         NaN  United Kingdom  \n"
     ]
    }
   ],
   "source": [
    "# Отбор строк без CustomerID\n",
    "no_customer_data = X[X['CustomerID'].isnull()]\n",
    "\n",
    "# Вывод первых строк данных без CustomerID\n",
    "print(no_customer_data.head())\n"
   ]
  },
  {
   "cell_type": "code",
   "execution_count": 7,
   "id": "70192ba6-974b-47ee-b26f-78688ef36ca4",
   "metadata": {},
   "outputs": [
    {
     "name": "stdout",
     "output_type": "stream",
     "text": [
      "Отсутствующие поля: ['InvoiceNo', 'StockCode']\n"
     ]
    }
   ],
   "source": [
    "# Проверка наличия всех полей, которые были в датасете из ZIP-архива\n",
    "required_columns = ['InvoiceNo', 'StockCode', 'Description', 'Quantity', 'InvoiceDate', 'UnitPrice', 'CustomerID', 'Country']\n",
    "missing_columns = [col for col in required_columns if col not in X.columns]\n",
    "print(\"Отсутствующие поля:\", missing_columns)"
   ]
  },
  {
   "cell_type": "code",
   "execution_count": 1,
   "id": "509e3aa7-8635-475c-b94b-3530959fb0a6",
   "metadata": {},
   "outputs": [
    {
     "name": "stdout",
     "output_type": "stream",
     "text": [
      "Содержимое targets:\n",
      "None\n"
     ]
    }
   ],
   "source": [
    "# Импорт необходимых библиотек\n",
    "import pandas as pd\n",
    "\n",
    "# Загрузка данных из репозитория UCI\n",
    "from ucimlrepo import fetch_ucirepo\n",
    "\n",
    "# Загрузка датасета\n",
    "online_retail = fetch_ucirepo(id=352)\n",
    "\n",
    "# Проверка содержимого targets\n",
    "y = online_retail.data.targets\n",
    "print(\"Содержимое targets:\")\n",
    "print(y)\n"
   ]
  },
  {
   "cell_type": "code",
   "execution_count": null,
   "id": "b731d6d2-9472-4b0e-9d61-f463e2493b1a",
   "metadata": {},
   "outputs": [],
   "source": []
  }
 ],
 "metadata": {
  "kernelspec": {
   "display_name": "Python 3 (ipykernel)",
   "language": "python",
   "name": "python3"
  },
  "language_info": {
   "codemirror_mode": {
    "name": "ipython",
    "version": 3
   },
   "file_extension": ".py",
   "mimetype": "text/x-python",
   "name": "python",
   "nbconvert_exporter": "python",
   "pygments_lexer": "ipython3",
   "version": "3.10.16"
  }
 },
 "nbformat": 4,
 "nbformat_minor": 5
}
