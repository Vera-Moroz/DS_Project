{
  "nbformat": 4,
  "nbformat_minor": 0,
  "metadata": {
    "colab": {
      "provenance": [],
      "authorship_tag": "ABX9TyOud4ibtyAw3S1L2szpHitb"
    },
    "kernelspec": {
      "name": "python3",
      "display_name": "Python 3"
    },
    "language_info": {
      "name": "python"
    }
  },
  "cells": [
    {
      "cell_type": "code",
      "execution_count": null,
      "metadata": {
        "colab": {
          "base_uri": "https://localhost:8080/",
          "height": 53
        },
        "id": "W7aSNtdrNYrB",
        "outputId": "0dbfdb72-a6ea-418d-ddda-9caf36e7643d"
      },
      "outputs": [
        {
          "output_type": "execute_result",
          "data": {
            "text/plain": [
              "'\\nДомашняя работа №1\\nНеобходимо написать код на Python и оценить сложность вашего алгоритма О(N).\\n\\nВариант 14. Создать множество, содержащее названия 5 разных городов, затем удалить одно название и вывести оставшиеся.\\n'"
            ],
            "application/vnd.google.colaboratory.intrinsic+json": {
              "type": "string"
            }
          },
          "metadata": {},
          "execution_count": 1
        }
      ],
      "source": [
        "\"\"\"\n",
        "Домашняя работа №1\n",
        "Необходимо написать код на Python и оценить сложность вашего алгоритма О(N).\n",
        "\n",
        "Вариант 14. Создать множество, содержащее названия 5 разных городов, затем удалить одно название и вывести оставшиеся.\n",
        "\"\"\""
      ]
    },
    {
      "cell_type": "code",
      "source": [
        "# решение через статический массив\n",
        "static_array = [\"Брест\",\"Витебск\",\"Гомель\",\"Гродно\",\"Минск\"]\n",
        "\n",
        "# удаляю город \"Минск\"\n",
        "static_array.remove(\"Минск\")\n",
        "static_array"
      ],
      "metadata": {
        "colab": {
          "base_uri": "https://localhost:8080/"
        },
        "id": "g276I_VXNvB_",
        "outputId": "5328f9ab-6540-486f-d36b-6ccffa7a3570"
      },
      "execution_count": null,
      "outputs": [
        {
          "output_type": "execute_result",
          "data": {
            "text/plain": [
              "['Брест', 'Витебск', 'Гомель', 'Гродно']"
            ]
          },
          "metadata": {},
          "execution_count": 2
        }
      ]
    },
    {
      "cell_type": "code",
      "source": [
        "# решение через динамический массив\n",
        "dynamic_array = []\n",
        "\n",
        "# прошу пользователя заполнить массив\n",
        "for i in range(5):\n",
        "    city = input(f\"Введите город {i+1}: \")\n",
        "    dynamic_array.append(city)\n",
        "\n",
        "# удаляю первый город\n",
        "dynamic_array.pop(0)\n",
        "dynamic_array"
      ],
      "metadata": {
        "colab": {
          "base_uri": "https://localhost:8080/"
        },
        "id": "jmB7CWnHN0u1",
        "outputId": "59165df3-e64f-4067-baac-33dce7c5b55c"
      },
      "execution_count": null,
      "outputs": [
        {
          "name": "stdout",
          "output_type": "stream",
          "text": [
            "Введите город 1: Тюмень\n",
            "Введите город 2: Киев\n",
            "Введите город 3: Томск\n",
            "Введите город 4: Анапа\n",
            "Введите город 5: Феодосия\n"
          ]
        },
        {
          "output_type": "execute_result",
          "data": {
            "text/plain": [
              "['Киев', 'Томск', 'Анапа', 'Феодосия']"
            ]
          },
          "metadata": {},
          "execution_count": 3
        }
      ]
    },
    {
      "cell_type": "code",
      "source": [
        "# вывожу оценку сложности\n",
        "print(\"\"\"\n",
        "    Сложность создания и заполнения динамического массива O(n), статического - O(1).\n",
        "    Сложность удаления города и вывода на экран оставшихся элементов O(1).\n",
        "    \"\"\")"
      ],
      "metadata": {
        "colab": {
          "base_uri": "https://localhost:8080/"
        },
        "id": "CJ6ur-FJN4m4",
        "outputId": "6a54836b-023b-4785-c2ae-6c1f8a0205e1"
      },
      "execution_count": null,
      "outputs": [
        {
          "output_type": "stream",
          "name": "stdout",
          "text": [
            "\n",
            "    Сложность создания динамического массива O(n), статического - O(1).\n",
            "    Сложность удаления города и вывода на экран оставшихся элементов O(1).\n",
            "    \n"
          ]
        }
      ]
    }
  ]
}