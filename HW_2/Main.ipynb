{
 "cells": [
  {
   "cell_type": "code",
   "execution_count": null,
   "id": "f3c79811-96d9-4349-8ab6-57a523e4dd43",
   "metadata": {},
   "outputs": [],
   "source": [
    "# main.py\n",
    "import sys\n",
    "import pandas as pd\n",
    "\n",
    "sys.path.append('./Modules')\n",
    "from Modules import DataLoader, Visualizer, MissingValuesHandler\n",
    "\n",
    "# Загрузка данных с сайта Kaggle\n",
    "dataset_name = 'blastchar/telco-customer-churn' \n",
    "file_name = 'WA_Fn-UseC_-Telco-Customer-Churn.csv'\n",
    "dataset_path = DataLoader.load_kaggle_dataset(dataset_name,file_name)\n",
    "print(dataset_path)"
   ]
  },
  {
   "cell_type": "code",
   "execution_count": null,
   "id": "359981fa-1038-4289-bbb4-e899302a7940",
   "metadata": {},
   "outputs": [],
   "source": [
    " #Загрузка данных из CSV файла\n",
    "churn_data = DataLoader.load_csv(dataset_path)\n",
    "\n",
    "print(churn_data.head())\n",
    "print(churn_data.info())"
   ]
  },
  {
   "cell_type": "code",
   "execution_count": null,
   "id": "ba7b11b4-eb3e-4438-9160-dffd4a2668de",
   "metadata": {},
   "outputs": [],
   "source": [
    "# Базовая статистика\n",
    "churn_data.describe()"
   ]
  },
  {
   "cell_type": "code",
   "execution_count": null,
   "id": "d86e8772-7f40-46ce-82d7-acaf752a5ad0",
   "metadata": {},
   "outputs": [],
   "source": [
    "# Подсчет пустых или пропущенных значений в каждом столбце\n",
    "missing_values_count = MissingValuesHandler.count_missing_values(churn_data)\n",
    "print(\"Количество пропущенных значений в каждом столбце:\")\n",
    "print(missing_values_count)\n",
    "print(\"\\nВ датасете отсутствуют пропуски\")"
   ]
  },
  {
   "cell_type": "code",
   "execution_count": null,
   "id": "a0b57b19-23bd-42a8-aab5-17777fad2fc5",
   "metadata": {},
   "outputs": [],
   "source": [
    "# Создание экземпляра класса Visualizer\n",
    "viz = Visualizer()\n",
    "\n",
    "# Добавление гистограммы\n",
    "\"\"\"\n",
    "Гистограммы должны показать:\n",
    "- гендерное распределение среди абонентов\n",
    "- основные способы оплаты\n",
    "\"\"\"\n",
    "viz.add_histogram(churn_data, 'gender')\n",
    "print(\"\\nВ датасете мужчин и женщин почти поровну\")\n",
    "viz.add_histogram(churn_data, 'PaymentMethod')\n",
    "print(\"\\nОплата электронными деньгами больше чем на 45% превышает любой другой способ пополнения\")"
   ]
  },
  {
   "cell_type": "code",
   "execution_count": null,
   "id": "9891fcce-b1dc-40ff-b602-bf0070e8ccbb",
   "metadata": {},
   "outputs": [],
   "source": [
    "# Создание новой колонки с интервалами для tenure\n",
    "bins = [0, 10, 20, 30, 40, 50, 60, 70, 80]\n",
    "labels = ['0-10', '10-20', '20-30', '30-40', '40-50', '50-60', '60-70', '70-80']\n",
    "churn_data['tenure_bins'] = pd.cut(churn_data['tenure'], bins=bins, labels=labels, right=False)\n",
    "\n",
    "# Добавление гистограммы для интервалов tenure\n",
    "\"\"\"\n",
    "Группируем абонентов в зависимости от срока владения номером\n",
    "\"\"\"\n",
    "viz.add_histogram(churn_data, 'tenure_bins')\n",
    "print(\"\\nСамая большая доля у абонентов, которые подключились 10 и менее месяцев назад\")\n"
   ]
  },
  {
   "cell_type": "code",
   "execution_count": null,
   "id": "2187fa39-e9a2-4228-8981-42c62be56a72",
   "metadata": {},
   "outputs": [],
   "source": [
    "# Добавление линейного графика для tenure и MonthlyCharges\n",
    "\"\"\"\n",
    "Проверка гипотезы, что чем больше абонент пользуется номером,\n",
    "тем больше его ежемесячная плата\n",
    "\"\"\"\n",
    "viz.add_line_plot(churn_data, 'tenure', 'MonthlyCharges')\n",
    "print(\"\\nУвеличение срока пользования сим-картой ведет к повышению абонентской платы\")"
   ]
  },
  {
   "cell_type": "code",
   "execution_count": null,
   "id": "f1b893f6-7ea5-4eae-b4ab-468946bfb617",
   "metadata": {},
   "outputs": [],
   "source": [
    "# Добавление парных диаграмм рассеивания для Churn и выбранных признаков\n",
    "columns = ['tenure', 'MonthlyCharges', 'TotalCharges']\n",
    "viz.add_pairplot(churn_data, columns, 'Churn')"
   ]
  },
  {
   "cell_type": "code",
   "execution_count": null,
   "id": "2a021407-8241-4aa0-9914-adb4cc4d97c3",
   "metadata": {},
   "outputs": [],
   "source": [
    "#Загрузка тренировочного датасета с пропусками\n",
    "file_with_gaps_path = './Data/Customer-Churn_dataset-with-gaps.csv'\n",
    "churn_gaps = DataLoader.load_csv(file_with_gaps_path)\n",
    "\n",
    "# Подсчет пустых или пропущенных значений в каждом столбце\n",
    "missing_values_report = MissingValuesHandler.count_missing_values(churn_gaps)\n",
    "print(\"Количество пропущенных значений и процент пропущенных значений в каждом столбце:\")\n",
    "print(missing_values_report)"
   ]
  },
  {
   "cell_type": "code",
   "execution_count": null,
   "id": "92e93f4b-6abe-4680-9c09-ed727e5c553f",
   "metadata": {},
   "outputs": [],
   "source": [
    "# Вывод строк с пропущенными значениями\n",
    "missing_rows = MissingValuesHandler.report_missing_values(churn_gaps)\n",
    "print(\"\\nСтроки с пропущенными значениями:\")\n",
    "print(missing_rows)"
   ]
  },
  {
   "cell_type": "code",
   "execution_count": null,
   "id": "5c3cceb5-0eea-4c4a-9a94-4c04c28cebff",
   "metadata": {},
   "outputs": [],
   "source": [
    "# Заполнение пропущенных значений\n",
    "churn_gaps_filled = MissingValuesHandler.fill_missing_values(\n",
    "    churn_gaps, \n",
    "    default_method='mean', \n",
    "    SeniorCitizen='mode', \n",
    "    tenure='median', \n",
    "    PhoneService='No'\n",
    ")\n",
    "# Повторный подсчет пустых или пропущенных значений в каждом столбце после заполнения\n",
    "missing_values_report_after = MissingValuesHandler.count_missing_values(churn_gaps_filled)\n",
    "print(\"\\nКоличество пропущенных значений и процент пропущенных значений в каждом столбце после заполнения:\") \n",
    "print(missing_values_report_after)"
   ]
  }
 ],
 "metadata": {
  "kernelspec": {
   "display_name": "Python 3 (ipykernel)",
   "language": "python",
   "name": "python3"
  },
  "language_info": {
   "codemirror_mode": {
    "name": "ipython",
    "version": 3
   },
   "file_extension": ".py",
   "mimetype": "text/x-python",
   "name": "python",
   "nbconvert_exporter": "python",
   "pygments_lexer": "ipython3",
   "version": "3.10.16"
  }
 },
 "nbformat": 4,
 "nbformat_minor": 5
}
